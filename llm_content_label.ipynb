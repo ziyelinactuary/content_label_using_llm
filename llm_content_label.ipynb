{
 "cells": [
  {
   "cell_type": "markdown",
   "source": [
    "Make prediction for segment 70. A segment contains metadata for about 2000 titles."
   ],
   "metadata": {
    "collapsed": false
   },
   "id": "dc6f8568e68f4c46"
  },
  {
   "cell_type": "code",
   "execution_count": null,
   "outputs": [],
   "source": [
    "file_name = \"./src/inference.py\"\n",
    "\n",
    "!python3 \"$file_name\" --model_id \"anthropic.claude-instant-v1\" --segment_start_index 70 --segment_end_index 71"
   ],
   "metadata": {
    "collapsed": false,
    "is_executing": true
   },
   "id": "initial_id"
  }
 ],
 "metadata": {
  "kernelspec": {
   "display_name": "Python 3",
   "language": "python",
   "name": "python3"
  },
  "language_info": {
   "codemirror_mode": {
    "name": "ipython",
    "version": 2
   },
   "file_extension": ".py",
   "mimetype": "text/x-python",
   "name": "python",
   "nbconvert_exporter": "python",
   "pygments_lexer": "ipython2",
   "version": "2.7.6"
  }
 },
 "nbformat": 4,
 "nbformat_minor": 5
}
